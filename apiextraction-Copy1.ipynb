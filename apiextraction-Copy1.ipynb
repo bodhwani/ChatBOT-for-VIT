{
 "cells": [
  {
   "cell_type": "code",
   "execution_count": 1,
   "metadata": {},
   "outputs": [
    {
     "name": "stdout",
     "output_type": "stream",
     "text": [
      "                                                Text Category subtags\n",
      "0  What will be the expenses other than fees, hos...   Hostel    fess\n",
      "1  When do we have to pay the VIT hostel fee, and...   Hostel    fees\n",
      "2  Hostel room allotment will be based on your NC...   Hostel    cgpa\n",
      "3                  How are the hostel rooms in vit?    Hostel   rooms\n",
      "4  How is the hostel and student life in VIT vell...   Hostel    life\n"
     ]
    }
   ],
   "source": [
    "import numpy as np \n",
    "import pandas as pd\n",
    "df = pd.read_csv('dataset.csv')\n",
    "print df.head()"
   ]
  },
  {
   "cell_type": "code",
   "execution_count": 2,
   "metadata": {},
   "outputs": [
    {
     "data": {
      "text/plain": [
       "56"
      ]
     },
     "execution_count": 2,
     "metadata": {},
     "output_type": "execute_result"
    }
   ],
   "source": [
    "df['Text'][0]\n",
    "len(df)\n"
   ]
  },
  {
   "cell_type": "code",
   "execution_count": 3,
   "metadata": {},
   "outputs": [
    {
     "name": "stdout",
     "output_type": "stream",
     "text": [
      "[('What will be the expenses other than fees, hostel rent & mess charges VIT Vellore?', 'Hostel'), ('When do we have to pay the VIT hostel fee, and what is the admission process for freshers?', 'Hostel'), ('Hostel room allotment will be based on your NCGPA.', 'Hostel'), ('How are the hostel rooms in vit? ', 'Hostel'), ('How is the hostel and student life in VIT vellore?', 'Hostel'), (\"How does a boy's hostel of VIT University Vellore look like?\", 'Hostel'), ('Are smart phones allowed in VIT hostel room?', 'Hostel'), ('What-is-the-hostel-allotment-procedure-in-VIT-Vellore', 'Hostel'), ('How are the hostel rooms maintained at the VIT?', 'Hostel'), ('Which is the best suitable hostel block in VIT Vellore campus for 4-bedded non-AC rooms?', 'Hostel'), ('How strict are the hostels in VIT?', 'hostel'), ('Do VIT hostels have a TV in each room?', 'hostel'), ('How is academic in VIT, Vellore?', 'Academics'), ('What is your review of Vellore Institute of Technology?', 'Academics'), ('Is VIT University a good college? ', 'Academics'), ('In terms of academics, how can you compare VIT University, Vellore and Amrita University, Chennai?', 'Academics'), ('Is Vellore Institute of Technology a good college? ', 'Academics'), ('What is it like to study at VIT (Vellore)?', 'Academics'), ('What is the approx total fees for a B.Tech. from VIT University, Vellore?', 'Fees'), ('What is the total 4 year fees (approx) of VIT for a student of rank under 5k, 10k and 15k?', 'Fees'), ('What \\nwould be the total fees for VIT Vellore for 4 years in a B.Tech course? \\nIf I take an education loan, will the loan cover all the expenses?', 'Fees'), ('What is the total fees for computer science in VIT, Vellore including Hostel fee?', 'Fees'), ('What is total fees for VIT (including hostel and tuition fees) for all branches?', 'Fees'), ('What are the fees for CS at the VIT Vellore campus?', 'Fees'), ('What is the fee structure for btech in VIT?', 'Fees'), ('VIT Fee Structure for Academic year 2017-2018', 'Fees'), ('VITEEE Fee Structure 2018', 'Fees'), ('How is the academic load in VIT, Vellore?', 'Academics'), ('hi', 'greetings'), ('hello', 'greetings'), ('Ciao', 'greetings'), ('bye', 'greetings'), ('How is the placement in VIT, Vellore? What is the average package?', 'Placement'), ('How was your experience in placement season at VIT?', 'Placement'), ('How have VIT 2016 CSE placements been?', 'Placement'), ('What are some of the best placement stories/experiences of students of Vit Vellore?', 'Placement'), ('How was the placement scenario of CSE branch at VIT Vellore in 2016-2017 batch?', 'Placement'), ('How are placements in vit?', 'Placement'), ('What is the top placement in VIT Vellore till now?', 'Placement'), ('What are the CS placements like at VIT Vellore?', 'Placement'), ('What is the current status of placements in VIT for the 2018 graduating batch?', 'Placement'), ('How are the placements for IT branch at VIT Vellore?', 'Placement'), ('What are the detailed placement statistics for IT from VIT Vellore in recent years?', 'Placement'), ('How have VIT 2016 CSE placements been?', 'Placement'), ('What dream companies visited and how many got selected in them?', 'Placement'), ('How is VIT IT placements?', 'Placement'), ('How are placements for CSE and IT in VIT in 2014-15?', 'Placement'), ('What is the paper pattern of VITEEE 2017?', 'Exam'), ('What is the exam pattern of the VIT University?', 'Exam'), ('What is the exam pattern of VIT Vellore M.tech entrance?', 'Exam'), ('Can you me the paper pattern of VITEEE 2016?', 'Exam'), ('How do I score well in VITEEE?', 'Exam'), ('How is are the exams scheduled in VIT Vellore?', 'Exam'), ('What is the exam pattern of VIT Vellore M.tech entrance?', 'Exam'), ('What advice would you give to a fresher at VIT Vellore?', 'Exam'), ('What is the pattern of giving grades in VIT?', 'Exam')]\n"
     ]
    }
   ],
   "source": [
    "training_data = []\n",
    "for i in range(len(df)):\n",
    "    training_data.append((df['Text'][i],df['Category'][i]))\n",
    "    \n",
    "print training_data"
   ]
  },
  {
   "cell_type": "code",
   "execution_count": 4,
   "metadata": {
    "collapsed": true
   },
   "outputs": [],
   "source": [
    "import nltk\n",
    "\n",
    "def bag_of_words(words):\n",
    "    p = dict([(word, True) for word in words])\n",
    "  #  print \"this is p\",p\n",
    "    return p\n"
   ]
  },
  {
   "cell_type": "code",
   "execution_count": null,
   "metadata": {
    "collapsed": true
   },
   "outputs": [],
   "source": []
  },
  {
   "cell_type": "code",
   "execution_count": 13,
   "metadata": {
    "collapsed": true
   },
   "outputs": [],
   "source": [
    "\n",
    "\n",
    "\n",
    "\n",
    "def process_sentence(x):\n",
    "    x=x.lower()\n",
    "    words = nltk.tokenize.word_tokenize(x) \n",
    "    print \"words are\",words\n",
    "    postag= nltk.pos_tag(words)\n",
    "    print \"postag is\",postag\n",
    "    stopwords = nltk.corpus.stopwords.words('english')\n",
    "    lemmatizer = nltk.WordNetLemmatizer()\n",
    "    processedwords=[]    \n",
    "    #Remove Stop words and lemmatize verbs\n",
    "    for w in postag:\n",
    "        if \"VB\" in w[1]:\n",
    "            processedwords.append(lemmatizer.lemmatize(w[0].lower(),'v'))\n",
    "        else:\n",
    "            processedwords.append(lemmatizer.lemmatize(w[0],'n').lower())\n",
    "    l=[]\n",
    "    print \"processedwords are \",processedwords\n",
    "    for w in processedwords:\n",
    "        if w.lower()==\"not\":\n",
    "            l.append(w)\n",
    "        elif w not in stopwords:\n",
    "            if (len(w)>2):\n",
    "                l.append(w)\n",
    "    print \"l is\",l\n",
    "                \n",
    "    \n",
    "    return bag_of_words(l)\n",
    "\n"
   ]
  },
  {
   "cell_type": "code",
   "execution_count": 18,
   "metadata": {},
   "outputs": [
    {
     "name": "stdout",
     "output_type": "stream",
     "text": [
      "words are ['what', 'will', 'be', 'the', 'expenses', 'other', 'than', 'fees', ',', 'hostel', 'rent', '&', 'mess', 'charges', 'vit', 'vellore', '?']\n",
      "postag is [('what', 'WP'), ('will', 'MD'), ('be', 'VB'), ('the', 'DT'), ('expenses', 'NNS'), ('other', 'JJ'), ('than', 'IN'), ('fees', 'NNS'), (',', ','), ('hostel', 'NN'), ('rent', 'NN'), ('&', 'CC'), ('mess', 'NN'), ('charges', 'NNS'), ('vit', 'VBP'), ('vellore', 'RB'), ('?', '.')]\n",
      "processedwords are  ['what', 'will', 'be', 'the', u'expense', 'other', 'than', u'fee', ',', 'hostel', 'rent', '&', 'mess', u'charge', 'vit', 'vellore', '?']\n",
      "l is [u'expense', u'fee', 'hostel', 'rent', 'mess', u'charge', 'vit', 'vellore']\n",
      "words are ['when', 'do', 'we', 'have', 'to', 'pay', 'the', 'vit', 'hostel', 'fee', ',', 'and', 'what', 'is', 'the', 'admission', 'process', 'for', 'freshers', '?']\n",
      "postag is [('when', 'WRB'), ('do', 'VBP'), ('we', 'PRP'), ('have', 'VB'), ('to', 'TO'), ('pay', 'VB'), ('the', 'DT'), ('vit', 'NN'), ('hostel', 'NN'), ('fee', 'NN'), (',', ','), ('and', 'CC'), ('what', 'WP'), ('is', 'VBZ'), ('the', 'DT'), ('admission', 'NN'), ('process', 'NN'), ('for', 'IN'), ('freshers', 'NNS'), ('?', '.')]\n",
      "processedwords are  ['when', 'do', 'we', 'have', 'to', 'pay', 'the', 'vit', 'hostel', 'fee', ',', 'and', 'what', u'be', 'the', 'admission', 'process', 'for', u'fresher', '?']\n",
      "l is ['pay', 'vit', 'hostel', 'fee', 'admission', 'process', u'fresher']\n",
      "words are ['hostel', 'room', 'allotment', 'will', 'be', 'based', 'on', 'your', 'ncgpa', '.']\n",
      "postag is [('hostel', 'NN'), ('room', 'NN'), ('allotment', 'NN'), ('will', 'MD'), ('be', 'VB'), ('based', 'VBN'), ('on', 'IN'), ('your', 'PRP$'), ('ncgpa', 'NN'), ('.', '.')]\n",
      "processedwords are  ['hostel', 'room', 'allotment', 'will', 'be', u'base', 'on', 'your', 'ncgpa', '.']\n",
      "l is ['hostel', 'room', 'allotment', u'base', 'ncgpa']\n",
      "words are ['how', 'are', 'the', 'hostel', 'rooms', 'in', 'vit', '?']\n",
      "postag is [('how', 'WRB'), ('are', 'VBP'), ('the', 'DT'), ('hostel', 'NN'), ('rooms', 'NNS'), ('in', 'IN'), ('vit', 'NN'), ('?', '.')]\n",
      "processedwords are  ['how', u'be', 'the', 'hostel', u'room', 'in', 'vit', '?']\n",
      "l is ['hostel', u'room', 'vit']\n",
      "words are ['how', 'is', 'the', 'hostel', 'and', 'student', 'life', 'in', 'vit', 'vellore', '?']\n",
      "postag is [('how', 'WRB'), ('is', 'VBZ'), ('the', 'DT'), ('hostel', 'NN'), ('and', 'CC'), ('student', 'NN'), ('life', 'NN'), ('in', 'IN'), ('vit', 'NN'), ('vellore', 'NN'), ('?', '.')]\n",
      "processedwords are  ['how', u'be', 'the', 'hostel', 'and', 'student', 'life', 'in', 'vit', 'vellore', '?']\n",
      "l is ['hostel', 'student', 'life', 'vit', 'vellore']\n",
      "words are ['how', 'does', 'a', 'boy', \"'s\", 'hostel', 'of', 'vit', 'university', 'vellore', 'look', 'like', '?']\n",
      "postag is [('how', 'WRB'), ('does', 'VBZ'), ('a', 'DT'), ('boy', 'NN'), (\"'s\", 'POS'), ('hostel', 'NN'), ('of', 'IN'), ('vit', 'NN'), ('university', 'NN'), ('vellore', 'VBP'), ('look', 'NN'), ('like', 'IN'), ('?', '.')]\n",
      "processedwords are  ['how', u'do', 'a', 'boy', \"'s\", 'hostel', 'of', 'vit', 'university', 'vellore', 'look', 'like', '?']\n",
      "l is ['boy', 'hostel', 'vit', 'university', 'vellore', 'look', 'like']\n",
      "words are ['are', 'smart', 'phones', 'allowed', 'in', 'vit', 'hostel', 'room', '?']\n",
      "postag is [('are', 'VBP'), ('smart', 'JJ'), ('phones', 'NNS'), ('allowed', 'VBN'), ('in', 'IN'), ('vit', 'JJ'), ('hostel', 'NN'), ('room', 'NN'), ('?', '.')]\n",
      "processedwords are  [u'be', 'smart', u'phone', u'allow', 'in', 'vit', 'hostel', 'room', '?']\n",
      "l is ['smart', u'phone', u'allow', 'vit', 'hostel', 'room']\n",
      "words are ['what-is-the-hostel-allotment-procedure-in-vit-vellore']\n",
      "postag is [('what-is-the-hostel-allotment-procedure-in-vit-vellore', 'NN')]\n",
      "processedwords are  ['what-is-the-hostel-allotment-procedure-in-vit-vellore']\n",
      "l is ['what-is-the-hostel-allotment-procedure-in-vit-vellore']\n",
      "words are ['how', 'are', 'the', 'hostel', 'rooms', 'maintained', 'at', 'the', 'vit', '?']\n",
      "postag is [('how', 'WRB'), ('are', 'VBP'), ('the', 'DT'), ('hostel', 'NN'), ('rooms', 'NNS'), ('maintained', 'VBD'), ('at', 'IN'), ('the', 'DT'), ('vit', 'NN'), ('?', '.')]\n",
      "processedwords are  ['how', u'be', 'the', 'hostel', u'room', u'maintain', 'at', 'the', 'vit', '?']\n",
      "l is ['hostel', u'room', u'maintain', 'vit']\n",
      "words are ['which', 'is', 'the', 'best', 'suitable', 'hostel', 'block', 'in', 'vit', 'vellore', 'campus', 'for', '4-bedded', 'non-ac', 'rooms', '?']\n",
      "postag is [('which', 'WDT'), ('is', 'VBZ'), ('the', 'DT'), ('best', 'JJS'), ('suitable', 'JJ'), ('hostel', 'NN'), ('block', 'NN'), ('in', 'IN'), ('vit', 'NN'), ('vellore', 'NN'), ('campus', 'NN'), ('for', 'IN'), ('4-bedded', 'JJ'), ('non-ac', 'JJ'), ('rooms', 'NNS'), ('?', '.')]\n",
      "processedwords are  ['which', u'be', 'the', 'best', 'suitable', 'hostel', 'block', 'in', 'vit', 'vellore', 'campus', 'for', '4-bedded', 'non-ac', u'room', '?']\n",
      "l is ['best', 'suitable', 'hostel', 'block', 'vit', 'vellore', 'campus', '4-bedded', 'non-ac', u'room']\n",
      "words are ['how', 'strict', 'are', 'the', 'hostels', 'in', 'vit', '?']\n",
      "postag is [('how', 'WRB'), ('strict', 'JJ'), ('are', 'VBP'), ('the', 'DT'), ('hostels', 'NNS'), ('in', 'IN'), ('vit', 'NN'), ('?', '.')]\n",
      "processedwords are  ['how', 'strict', u'be', 'the', u'hostel', 'in', 'vit', '?']\n",
      "l is ['strict', u'hostel', 'vit']\n",
      "words are ['do', 'vit', 'hostels', 'have', 'a', 'tv', 'in', 'each', 'room', '?']\n",
      "postag is [('do', 'VB'), ('vit', 'NN'), ('hostels', 'NNS'), ('have', 'VBP'), ('a', 'DT'), ('tv', 'NN'), ('in', 'IN'), ('each', 'DT'), ('room', 'NN'), ('?', '.')]\n",
      "processedwords are  ['do', 'vit', u'hostel', 'have', 'a', 'tv', 'in', 'each', 'room', '?']\n",
      "l is ['vit', u'hostel', 'room']\n",
      "words are ['how', 'is', 'academic', 'in', 'vit', ',', 'vellore', '?']\n",
      "postag is [('how', 'WRB'), ('is', 'VBZ'), ('academic', 'JJ'), ('in', 'IN'), ('vit', 'NN'), (',', ','), ('vellore', 'NN'), ('?', '.')]\n",
      "processedwords are  ['how', u'be', 'academic', 'in', 'vit', ',', 'vellore', '?']\n",
      "l is ['academic', 'vit', 'vellore']\n",
      "words are ['what', 'is', 'your', 'review', 'of', 'vellore', 'institute', 'of', 'technology', '?']\n",
      "postag is [('what', 'WP'), ('is', 'VBZ'), ('your', 'PRP$'), ('review', 'NN'), ('of', 'IN'), ('vellore', 'NN'), ('institute', 'NN'), ('of', 'IN'), ('technology', 'NN'), ('?', '.')]\n",
      "processedwords are  ['what', u'be', 'your', 'review', 'of', 'vellore', 'institute', 'of', 'technology', '?']\n",
      "l is ['review', 'vellore', 'institute', 'technology']\n",
      "words are ['is', 'vit', 'university', 'a', 'good', 'college', '?']\n",
      "postag is [('is', 'VBZ'), ('vit', 'JJ'), ('university', 'NN'), ('a', 'DT'), ('good', 'JJ'), ('college', 'NN'), ('?', '.')]\n",
      "processedwords are  [u'be', 'vit', 'university', 'a', 'good', 'college', '?']\n",
      "l is ['vit', 'university', 'good', 'college']\n",
      "words are ['in', 'terms', 'of', 'academics', ',', 'how', 'can', 'you', 'compare', 'vit', 'university', ',', 'vellore', 'and', 'amrita', 'university', ',', 'chennai', '?']\n",
      "postag is [('in', 'IN'), ('terms', 'NNS'), ('of', 'IN'), ('academics', 'NNS'), (',', ','), ('how', 'WRB'), ('can', 'MD'), ('you', 'PRP'), ('compare', 'VB'), ('vit', 'JJ'), ('university', 'NN'), (',', ','), ('vellore', 'NN'), ('and', 'CC'), ('amrita', 'JJ'), ('university', 'NN'), (',', ','), ('chennai', 'NN'), ('?', '.')]\n",
      "processedwords are  ['in', u'term', 'of', u'academic', ',', 'how', 'can', 'you', 'compare', 'vit', 'university', ',', 'vellore', 'and', 'amrita', 'university', ',', 'chennai', '?']\n",
      "l is [u'term', u'academic', 'compare', 'vit', 'university', 'vellore', 'amrita', 'university', 'chennai']\n",
      "words are ['is', 'vellore', 'institute', 'of', 'technology', 'a', 'good', 'college', '?']\n",
      "postag is [('is', 'VBZ'), ('vellore', 'RB'), ('institute', 'NN'), ('of', 'IN'), ('technology', 'NN'), ('a', 'DT'), ('good', 'JJ'), ('college', 'NN'), ('?', '.')]\n",
      "processedwords are  [u'be', 'vellore', 'institute', 'of', 'technology', 'a', 'good', 'college', '?']\n",
      "l is ['vellore', 'institute', 'technology', 'good', 'college']\n",
      "words are ['what', 'is', 'it', 'like', 'to', 'study', 'at', 'vit', '(', 'vellore', ')', '?']\n",
      "postag is [('what', 'WP'), ('is', 'VBZ'), ('it', 'PRP'), ('like', 'IN'), ('to', 'TO'), ('study', 'VB'), ('at', 'IN'), ('vit', 'NN'), ('(', '('), ('vellore', 'NN'), (')', ')'), ('?', '.')]\n",
      "processedwords are  ['what', u'be', 'it', 'like', 'to', 'study', 'at', 'vit', '(', 'vellore', ')', '?']\n",
      "l is ['like', 'study', 'vit', 'vellore']\n",
      "words are ['what', 'is', 'the', 'approx', 'total', 'fees', 'for', 'a', 'b.tech', '.', 'from', 'vit', 'university', ',', 'vellore', '?']\n",
      "postag is [('what', 'WP'), ('is', 'VBZ'), ('the', 'DT'), ('approx', 'JJ'), ('total', 'NN'), ('fees', 'NNS'), ('for', 'IN'), ('a', 'DT'), ('b.tech', 'NN'), ('.', '.'), ('from', 'IN'), ('vit', 'NN'), ('university', 'NN'), (',', ','), ('vellore', 'RB'), ('?', '.')]\n",
      "processedwords are  ['what', u'be', 'the', 'approx', 'total', u'fee', 'for', 'a', 'b.tech', '.', 'from', 'vit', 'university', ',', 'vellore', '?']\n",
      "l is ['approx', 'total', u'fee', 'b.tech', 'vit', 'university', 'vellore']\n",
      "words are ['what', 'is', 'the', 'total', '4', 'year', 'fees', '(', 'approx', ')', 'of', 'vit', 'for', 'a', 'student', 'of', 'rank', 'under', '5k', ',', '10k', 'and', '15k', '?']\n",
      "postag is [('what', 'WP'), ('is', 'VBZ'), ('the', 'DT'), ('total', 'JJ'), ('4', 'CD'), ('year', 'NN'), ('fees', 'NNS'), ('(', '('), ('approx', 'JJ'), (')', ')'), ('of', 'IN'), ('vit', 'NN'), ('for', 'IN'), ('a', 'DT'), ('student', 'NN'), ('of', 'IN'), ('rank', 'NN'), ('under', 'IN'), ('5k', 'CD'), (',', ','), ('10k', 'CD'), ('and', 'CC'), ('15k', 'CD'), ('?', '.')]\n",
      "processedwords are  ['what', u'be', 'the', 'total', '4', 'year', u'fee', '(', 'approx', ')', 'of', 'vit', 'for', 'a', 'student', 'of', 'rank', 'under', '5k', ',', '10k', 'and', '15k', '?']\n",
      "l is ['total', 'year', u'fee', 'approx', 'vit', 'student', 'rank', '10k', '15k']\n",
      "words are ['what', 'would', 'be', 'the', 'total', 'fees', 'for', 'vit', 'vellore', 'for', '4', 'years', 'in', 'a', 'b.tech', 'course', '?', 'if', 'i', 'take', 'an', 'education', 'loan', ',', 'will', 'the', 'loan', 'cover', 'all', 'the', 'expenses', '?']\n",
      "postag is [('what', 'WP'), ('would', 'MD'), ('be', 'VB'), ('the', 'DT'), ('total', 'JJ'), ('fees', 'NNS'), ('for', 'IN'), ('vit', 'NN'), ('vellore', 'NN'), ('for', 'IN'), ('4', 'CD'), ('years', 'NNS'), ('in', 'IN'), ('a', 'DT'), ('b.tech', 'NN'), ('course', 'NN'), ('?', '.'), ('if', 'IN'), ('i', 'JJ'), ('take', 'VBP'), ('an', 'DT'), ('education', 'NN'), ('loan', 'NN'), (',', ','), ('will', 'MD'), ('the', 'DT'), ('loan', 'NN'), ('cover', 'NN'), ('all', 'PDT'), ('the', 'DT'), ('expenses', 'NNS'), ('?', '.')]\n",
      "processedwords are  ['what', 'would', 'be', 'the', 'total', u'fee', 'for', 'vit', 'vellore', 'for', '4', u'year', 'in', 'a', 'b.tech', 'course', '?', 'if', 'i', 'take', 'an', 'education', 'loan', ',', 'will', 'the', 'loan', 'cover', 'all', 'the', u'expense', '?']\n",
      "l is ['would', 'total', u'fee', 'vit', 'vellore', u'year', 'b.tech', 'course', 'take', 'education', 'loan', 'loan', 'cover', u'expense']\n",
      "words are ['what', 'is', 'the', 'total', 'fees', 'for', 'computer', 'science', 'in', 'vit', ',', 'vellore', 'including', 'hostel', 'fee', '?']\n",
      "postag is [('what', 'WP'), ('is', 'VBZ'), ('the', 'DT'), ('total', 'JJ'), ('fees', 'NNS'), ('for', 'IN'), ('computer', 'NN'), ('science', 'NN'), ('in', 'IN'), ('vit', 'NN'), (',', ','), ('vellore', 'IN'), ('including', 'VBG'), ('hostel', 'NN'), ('fee', 'NN'), ('?', '.')]\n",
      "processedwords are  ['what', u'be', 'the', 'total', u'fee', 'for', 'computer', 'science', 'in', 'vit', ',', 'vellore', u'include', 'hostel', 'fee', '?']\n",
      "l is ['total', u'fee', 'computer', 'science', 'vit', 'vellore', u'include', 'hostel', 'fee']\n",
      "words are ['what', 'is', 'total', 'fees', 'for', 'vit', '(', 'including', 'hostel', 'and', 'tuition', 'fees', ')', 'for', 'all', 'branches', '?']\n",
      "postag is [('what', 'WP'), ('is', 'VBZ'), ('total', 'JJ'), ('fees', 'NNS'), ('for', 'IN'), ('vit', 'NN'), ('(', '('), ('including', 'VBG'), ('hostel', 'NN'), ('and', 'CC'), ('tuition', 'NN'), ('fees', 'NNS'), (')', ')'), ('for', 'IN'), ('all', 'DT'), ('branches', 'NNS'), ('?', '.')]\n",
      "processedwords are  ['what', u'be', 'total', u'fee', 'for', 'vit', '(', u'include', 'hostel', 'and', 'tuition', u'fee', ')', 'for', 'all', u'branch', '?']\n",
      "l is ['total', u'fee', 'vit', u'include', 'hostel', 'tuition', u'fee', u'branch']\n",
      "words are ['what', 'are', 'the', 'fees', 'for', 'cs', 'at', 'the', 'vit', 'vellore', 'campus', '?']\n",
      "postag is [('what', 'WDT'), ('are', 'VBP'), ('the', 'DT'), ('fees', 'NNS'), ('for', 'IN'), ('cs', 'NN'), ('at', 'IN'), ('the', 'DT'), ('vit', 'NN'), ('vellore', 'NN'), ('campus', 'NN'), ('?', '.')]\n",
      "processedwords are  ['what', u'be', 'the', u'fee', 'for', u'c', 'at', 'the', 'vit', 'vellore', 'campus', '?']\n",
      "l is [u'fee', 'vit', 'vellore', 'campus']\n",
      "words are ['what', 'is', 'the', 'fee', 'structure', 'for', 'btech', 'in', 'vit', '?']\n"
     ]
    },
    {
     "name": "stdout",
     "output_type": "stream",
     "text": [
      "postag is [('what', 'WP'), ('is', 'VBZ'), ('the', 'DT'), ('fee', 'NN'), ('structure', 'NN'), ('for', 'IN'), ('btech', 'NN'), ('in', 'IN'), ('vit', 'NN'), ('?', '.')]\n",
      "processedwords are  ['what', u'be', 'the', 'fee', 'structure', 'for', 'btech', 'in', 'vit', '?']\n",
      "l is ['fee', 'structure', 'btech', 'vit']\n",
      "words are ['vit', 'fee', 'structure', 'for', 'academic', 'year', '2017-2018']\n",
      "postag is [('vit', 'JJ'), ('fee', 'NN'), ('structure', 'NN'), ('for', 'IN'), ('academic', 'JJ'), ('year', 'NN'), ('2017-2018', 'JJ')]\n",
      "processedwords are  ['vit', 'fee', 'structure', 'for', 'academic', 'year', '2017-2018']\n",
      "l is ['vit', 'fee', 'structure', 'academic', 'year', '2017-2018']\n",
      "words are ['viteee', 'fee', 'structure', '2018']\n",
      "postag is [('viteee', 'JJ'), ('fee', 'NN'), ('structure', 'NN'), ('2018', 'CD')]\n",
      "processedwords are  ['viteee', 'fee', 'structure', '2018']\n",
      "l is ['viteee', 'fee', 'structure', '2018']\n",
      "words are ['how', 'is', 'the', 'academic', 'load', 'in', 'vit', ',', 'vellore', '?']\n",
      "postag is [('how', 'WRB'), ('is', 'VBZ'), ('the', 'DT'), ('academic', 'JJ'), ('load', 'NN'), ('in', 'IN'), ('vit', 'NN'), (',', ','), ('vellore', 'NN'), ('?', '.')]\n",
      "processedwords are  ['how', u'be', 'the', 'academic', 'load', 'in', 'vit', ',', 'vellore', '?']\n",
      "l is ['academic', 'load', 'vit', 'vellore']\n",
      "words are ['hi']\n",
      "postag is [('hi', 'NN')]\n",
      "processedwords are  ['hi']\n",
      "l is []\n",
      "words are ['hello']\n",
      "postag is [('hello', 'NN')]\n",
      "processedwords are  ['hello']\n",
      "l is ['hello']\n",
      "words are ['ciao']\n",
      "postag is [('ciao', 'NN')]\n",
      "processedwords are  ['ciao']\n",
      "l is ['ciao']\n",
      "words are ['bye']\n",
      "postag is [('bye', 'NN')]\n",
      "processedwords are  ['bye']\n",
      "l is ['bye']\n",
      "words are ['how', 'is', 'the', 'placement', 'in', 'vit', ',', 'vellore', '?', 'what', 'is', 'the', 'average', 'package', '?']\n",
      "postag is [('how', 'WRB'), ('is', 'VBZ'), ('the', 'DT'), ('placement', 'NN'), ('in', 'IN'), ('vit', 'NN'), (',', ','), ('vellore', 'RB'), ('?', '.'), ('what', 'WP'), ('is', 'VBZ'), ('the', 'DT'), ('average', 'JJ'), ('package', 'NN'), ('?', '.')]\n",
      "processedwords are  ['how', u'be', 'the', 'placement', 'in', 'vit', ',', 'vellore', '?', 'what', u'be', 'the', 'average', 'package', '?']\n",
      "l is ['placement', 'vit', 'vellore', 'average', 'package']\n",
      "words are ['how', 'was', 'your', 'experience', 'in', 'placement', 'season', 'at', 'vit', '?']\n",
      "postag is [('how', 'WRB'), ('was', 'VBD'), ('your', 'PRP$'), ('experience', 'NN'), ('in', 'IN'), ('placement', 'NN'), ('season', 'NN'), ('at', 'IN'), ('vit', 'NN'), ('?', '.')]\n",
      "processedwords are  ['how', u'be', 'your', 'experience', 'in', 'placement', 'season', 'at', 'vit', '?']\n",
      "l is ['experience', 'placement', 'season', 'vit']\n",
      "words are ['how', 'have', 'vit', '2016', 'cse', 'placements', 'been', '?']\n",
      "postag is [('how', 'WRB'), ('have', 'VBP'), ('vit', 'NN'), ('2016', 'CD'), ('cse', 'NN'), ('placements', 'NNS'), ('been', 'VBN'), ('?', '.')]\n",
      "processedwords are  ['how', 'have', 'vit', '2016', 'cse', u'placement', u'be', '?']\n",
      "l is ['vit', '2016', 'cse', u'placement']\n",
      "words are ['what', 'are', 'some', 'of', 'the', 'best', 'placement', 'stories/experiences', 'of', 'students', 'of', 'vit', 'vellore', '?']\n",
      "postag is [('what', 'WDT'), ('are', 'VBP'), ('some', 'DT'), ('of', 'IN'), ('the', 'DT'), ('best', 'JJS'), ('placement', 'NN'), ('stories/experiences', 'NNS'), ('of', 'IN'), ('students', 'NNS'), ('of', 'IN'), ('vit', 'NN'), ('vellore', 'NN'), ('?', '.')]\n",
      "processedwords are  ['what', u'be', 'some', 'of', 'the', 'best', 'placement', 'stories/experiences', 'of', u'student', 'of', 'vit', 'vellore', '?']\n",
      "l is ['best', 'placement', 'stories/experiences', u'student', 'vit', 'vellore']\n",
      "words are ['how', 'was', 'the', 'placement', 'scenario', 'of', 'cse', 'branch', 'at', 'vit', 'vellore', 'in', '2016-2017', 'batch', '?']\n",
      "postag is [('how', 'WRB'), ('was', 'VBD'), ('the', 'DT'), ('placement', 'NN'), ('scenario', 'NN'), ('of', 'IN'), ('cse', 'NN'), ('branch', 'NN'), ('at', 'IN'), ('vit', 'NN'), ('vellore', 'NN'), ('in', 'IN'), ('2016-2017', 'JJ'), ('batch', 'NN'), ('?', '.')]\n",
      "processedwords are  ['how', u'be', 'the', 'placement', 'scenario', 'of', 'cse', 'branch', 'at', 'vit', 'vellore', 'in', '2016-2017', 'batch', '?']\n",
      "l is ['placement', 'scenario', 'cse', 'branch', 'vit', 'vellore', '2016-2017', 'batch']\n",
      "words are ['how', 'are', 'placements', 'in', 'vit', '?']\n",
      "postag is [('how', 'WRB'), ('are', 'VBP'), ('placements', 'NNS'), ('in', 'IN'), ('vit', 'NN'), ('?', '.')]\n",
      "processedwords are  ['how', u'be', u'placement', 'in', 'vit', '?']\n",
      "l is [u'placement', 'vit']\n",
      "words are ['what', 'is', 'the', 'top', 'placement', 'in', 'vit', 'vellore', 'till', 'now', '?']\n",
      "postag is [('what', 'WP'), ('is', 'VBZ'), ('the', 'DT'), ('top', 'JJ'), ('placement', 'NN'), ('in', 'IN'), ('vit', 'NN'), ('vellore', 'NN'), ('till', 'NN'), ('now', 'RB'), ('?', '.')]\n",
      "processedwords are  ['what', u'be', 'the', 'top', 'placement', 'in', 'vit', 'vellore', 'till', 'now', '?']\n",
      "l is ['top', 'placement', 'vit', 'vellore', 'till']\n",
      "words are ['what', 'are', 'the', 'cs', 'placements', 'like', 'at', 'vit', 'vellore', '?']\n",
      "postag is [('what', 'WDT'), ('are', 'VBP'), ('the', 'DT'), ('cs', 'JJ'), ('placements', 'NNS'), ('like', 'IN'), ('at', 'IN'), ('vit', 'NN'), ('vellore', 'NN'), ('?', '.')]\n",
      "processedwords are  ['what', u'be', 'the', u'c', u'placement', 'like', 'at', 'vit', 'vellore', '?']\n",
      "l is [u'placement', 'like', 'vit', 'vellore']\n",
      "words are ['what', 'is', 'the', 'current', 'status', 'of', 'placements', 'in', 'vit', 'for', 'the', '2018', 'graduating', 'batch', '?']\n",
      "postag is [('what', 'WP'), ('is', 'VBZ'), ('the', 'DT'), ('current', 'JJ'), ('status', 'NN'), ('of', 'IN'), ('placements', 'NNS'), ('in', 'IN'), ('vit', 'NN'), ('for', 'IN'), ('the', 'DT'), ('2018', 'CD'), ('graduating', 'VBG'), ('batch', 'NN'), ('?', '.')]\n",
      "processedwords are  ['what', u'be', 'the', 'current', 'status', 'of', u'placement', 'in', 'vit', 'for', 'the', '2018', u'graduate', 'batch', '?']\n",
      "l is ['current', 'status', u'placement', 'vit', '2018', u'graduate', 'batch']\n",
      "words are ['how', 'are', 'the', 'placements', 'for', 'it', 'branch', 'at', 'vit', 'vellore', '?']\n",
      "postag is [('how', 'WRB'), ('are', 'VBP'), ('the', 'DT'), ('placements', 'NNS'), ('for', 'IN'), ('it', 'PRP'), ('branch', 'NN'), ('at', 'IN'), ('vit', 'NN'), ('vellore', 'NN'), ('?', '.')]\n",
      "processedwords are  ['how', u'be', 'the', u'placement', 'for', 'it', 'branch', 'at', 'vit', 'vellore', '?']\n",
      "l is [u'placement', 'branch', 'vit', 'vellore']\n",
      "words are ['what', 'are', 'the', 'detailed', 'placement', 'statistics', 'for', 'it', 'from', 'vit', 'vellore', 'in', 'recent', 'years', '?']\n",
      "postag is [('what', 'WDT'), ('are', 'VBP'), ('the', 'DT'), ('detailed', 'JJ'), ('placement', 'NN'), ('statistics', 'NNS'), ('for', 'IN'), ('it', 'PRP'), ('from', 'IN'), ('vit', 'NN'), ('vellore', 'NN'), ('in', 'IN'), ('recent', 'JJ'), ('years', 'NNS'), ('?', '.')]\n",
      "processedwords are  ['what', u'be', 'the', 'detailed', 'placement', u'statistic', 'for', 'it', 'from', 'vit', 'vellore', 'in', 'recent', u'year', '?']\n",
      "l is ['detailed', 'placement', u'statistic', 'vit', 'vellore', 'recent', u'year']\n",
      "words are ['how', 'have', 'vit', '2016', 'cse', 'placements', 'been', '?']\n",
      "postag is [('how', 'WRB'), ('have', 'VBP'), ('vit', 'NN'), ('2016', 'CD'), ('cse', 'NN'), ('placements', 'NNS'), ('been', 'VBN'), ('?', '.')]\n",
      "processedwords are  ['how', 'have', 'vit', '2016', 'cse', u'placement', u'be', '?']\n",
      "l is ['vit', '2016', 'cse', u'placement']\n",
      "words are ['what', 'dream', 'companies', 'visited', 'and', 'how', 'many', 'got', 'selected', 'in', 'them', '?']\n",
      "postag is [('what', 'WP'), ('dream', 'NN'), ('companies', 'NNS'), ('visited', 'VBD'), ('and', 'CC'), ('how', 'WRB'), ('many', 'JJ'), ('got', 'VBD'), ('selected', 'VBN'), ('in', 'IN'), ('them', 'PRP'), ('?', '.')]\n",
      "processedwords are  ['what', 'dream', u'company', u'visit', 'and', 'how', 'many', u'get', u'select', 'in', 'them', '?']\n",
      "l is ['dream', u'company', u'visit', 'many', u'get', u'select']\n",
      "words are ['how', 'is', 'vit', 'it', 'placements', '?']\n",
      "postag is [('how', 'WRB'), ('is', 'VBZ'), ('vit', 'IN'), ('it', 'PRP'), ('placements', 'VBZ'), ('?', '.')]\n",
      "processedwords are  ['how', u'be', 'vit', 'it', 'placements', '?']\n",
      "l is ['vit', 'placements']\n",
      "words are ['how', 'are', 'placements', 'for', 'cse', 'and', 'it', 'in', 'vit', 'in', '2014-15', '?']\n",
      "postag is [('how', 'WRB'), ('are', 'VBP'), ('placements', 'NNS'), ('for', 'IN'), ('cse', 'NN'), ('and', 'CC'), ('it', 'PRP'), ('in', 'IN'), ('vit', 'NN'), ('in', 'IN'), ('2014-15', 'CD'), ('?', '.')]\n",
      "processedwords are  ['how', u'be', u'placement', 'for', 'cse', 'and', 'it', 'in', 'vit', 'in', '2014-15', '?']\n",
      "l is [u'placement', 'cse', 'vit', '2014-15']\n",
      "words are ['what', 'is', 'the', 'paper', 'pattern', 'of', 'viteee', '2017', '?']\n",
      "postag is [('what', 'WP'), ('is', 'VBZ'), ('the', 'DT'), ('paper', 'NN'), ('pattern', 'NN'), ('of', 'IN'), ('viteee', 'NN'), ('2017', 'CD'), ('?', '.')]\n",
      "processedwords are  ['what', u'be', 'the', 'paper', 'pattern', 'of', 'viteee', '2017', '?']\n"
     ]
    },
    {
     "name": "stdout",
     "output_type": "stream",
     "text": [
      "l is ['paper', 'pattern', 'viteee', '2017']\n",
      "words are ['what', 'is', 'the', 'exam', 'pattern', 'of', 'the', 'vit', 'university', '?']\n",
      "postag is [('what', 'WP'), ('is', 'VBZ'), ('the', 'DT'), ('exam', 'JJ'), ('pattern', 'NN'), ('of', 'IN'), ('the', 'DT'), ('vit', 'NN'), ('university', 'NN'), ('?', '.')]\n",
      "processedwords are  ['what', u'be', 'the', 'exam', 'pattern', 'of', 'the', 'vit', 'university', '?']\n",
      "l is ['exam', 'pattern', 'vit', 'university']\n",
      "words are ['what', 'is', 'the', 'exam', 'pattern', 'of', 'vit', 'vellore', 'm.tech', 'entrance', '?']\n",
      "postag is [('what', 'WP'), ('is', 'VBZ'), ('the', 'DT'), ('exam', 'JJ'), ('pattern', 'NN'), ('of', 'IN'), ('vit', 'NN'), ('vellore', 'NN'), ('m.tech', 'NN'), ('entrance', 'NN'), ('?', '.')]\n",
      "processedwords are  ['what', u'be', 'the', 'exam', 'pattern', 'of', 'vit', 'vellore', 'm.tech', 'entrance', '?']\n",
      "l is ['exam', 'pattern', 'vit', 'vellore', 'm.tech', 'entrance']\n",
      "words are ['can', 'you', 'me', 'the', 'paper', 'pattern', 'of', 'viteee', '2016', '?']\n",
      "postag is [('can', 'MD'), ('you', 'PRP'), ('me', 'PRP'), ('the', 'DT'), ('paper', 'NN'), ('pattern', 'NN'), ('of', 'IN'), ('viteee', 'NN'), ('2016', 'CD'), ('?', '.')]\n",
      "processedwords are  ['can', 'you', 'me', 'the', 'paper', 'pattern', 'of', 'viteee', '2016', '?']\n",
      "l is ['paper', 'pattern', 'viteee', '2016']\n",
      "words are ['how', 'do', 'i', 'score', 'well', 'in', 'viteee', '?']\n",
      "postag is [('how', 'WRB'), ('do', 'VB'), ('i', 'VB'), ('score', 'RB'), ('well', 'RB'), ('in', 'IN'), ('viteee', 'NN'), ('?', '.')]\n",
      "processedwords are  ['how', 'do', 'i', 'score', 'well', 'in', 'viteee', '?']\n",
      "l is ['score', 'well', 'viteee']\n",
      "words are ['how', 'is', 'are', 'the', 'exams', 'scheduled', 'in', 'vit', 'vellore', '?']\n",
      "postag is [('how', 'WRB'), ('is', 'VBZ'), ('are', 'VBP'), ('the', 'DT'), ('exams', 'NNS'), ('scheduled', 'VBN'), ('in', 'IN'), ('vit', 'NN'), ('vellore', 'NN'), ('?', '.')]\n",
      "processedwords are  ['how', u'be', u'be', 'the', u'exam', u'schedule', 'in', 'vit', 'vellore', '?']\n",
      "l is [u'exam', u'schedule', 'vit', 'vellore']\n",
      "words are ['what', 'is', 'the', 'exam', 'pattern', 'of', 'vit', 'vellore', 'm.tech', 'entrance', '?']\n",
      "postag is [('what', 'WP'), ('is', 'VBZ'), ('the', 'DT'), ('exam', 'JJ'), ('pattern', 'NN'), ('of', 'IN'), ('vit', 'NN'), ('vellore', 'NN'), ('m.tech', 'NN'), ('entrance', 'NN'), ('?', '.')]\n",
      "processedwords are  ['what', u'be', 'the', 'exam', 'pattern', 'of', 'vit', 'vellore', 'm.tech', 'entrance', '?']\n",
      "l is ['exam', 'pattern', 'vit', 'vellore', 'm.tech', 'entrance']\n",
      "words are ['what', 'advice', 'would', 'you', 'give', 'to', 'a', 'fresher', 'at', 'vit', 'vellore', '?']\n",
      "postag is [('what', 'WP'), ('advice', 'NN'), ('would', 'MD'), ('you', 'PRP'), ('give', 'VB'), ('to', 'TO'), ('a', 'DT'), ('fresher', 'NN'), ('at', 'IN'), ('vit', 'NN'), ('vellore', 'NN'), ('?', '.')]\n",
      "processedwords are  ['what', 'advice', 'would', 'you', 'give', 'to', 'a', 'fresher', 'at', 'vit', 'vellore', '?']\n",
      "l is ['advice', 'would', 'give', 'fresher', 'vit', 'vellore']\n",
      "words are ['what', 'is', 'the', 'pattern', 'of', 'giving', 'grades', 'in', 'vit', '?']\n",
      "postag is [('what', 'WP'), ('is', 'VBZ'), ('the', 'DT'), ('pattern', 'NN'), ('of', 'IN'), ('giving', 'VBG'), ('grades', 'NNS'), ('in', 'IN'), ('vit', 'NN'), ('?', '.')]\n",
      "processedwords are  ['what', u'be', 'the', 'pattern', 'of', u'give', u'grade', 'in', 'vit', '?']\n",
      "l is ['pattern', u'give', u'grade', 'vit']\n",
      "featuresets are 56\n"
     ]
    }
   ],
   "source": [
    "featuresets = [(process_sentence(n), intent) for (n, intent) in training_data]\n",
    "print \"featuresets are\",len(featuresets)"
   ]
  },
  {
   "cell_type": "code",
   "execution_count": 17,
   "metadata": {},
   "outputs": [
    {
     "name": "stdout",
     "output_type": "stream",
     "text": [
      "55\n"
     ]
    }
   ],
   "source": [
    "# for (n, intent) in training_data:\n",
    "#     try:\n",
    "#         featuresets = [(process_sentence(n), intent)]\n",
    "#     except:\n",
    "#         print (\"ERROR\",n,intent)\n",
    "    \n",
    "featuresets = [ (n, intent) for (n, intent) in featuresets if n]\n",
    "print len(featuresets)"
   ]
  },
  {
   "cell_type": "code",
   "execution_count": 19,
   "metadata": {
    "collapsed": true
   },
   "outputs": [],
   "source": [
    "\n",
    "\n",
    "classifier= nltk.NaiveBayesClassifier.train(featuresets)\n",
    "\n",
    "def score(input_sent):\n",
    "    dist = classifier.prob_classify(process_sentence(input_sent))\n",
    "    for label in dist.samples():\n",
    "        print(\"%s: %f\" % (label, dist.prob(label)))\n",
    "\n",
    "def intent(input_sent):\n",
    "    dist = classifier.classify(process_sentence(input_sent))\n",
    "    return dist\n",
    "\n"
   ]
  },
  {
   "cell_type": "code",
   "execution_count": 21,
   "metadata": {},
   "outputs": [
    {
     "name": "stdout",
     "output_type": "stream",
     "text": [
      "words are ['how', 'are', 'the', 'rooms', 'in', 'vit']\n",
      "postag is [('how', 'WRB'), ('are', 'VBP'), ('the', 'DT'), ('rooms', 'NNS'), ('in', 'IN'), ('vit', 'NN')]\n",
      "processedwords are  ['how', u'be', 'the', u'room', 'in', 'vit']\n",
      "l is [u'room', 'vit']\n",
      "words are ['how', 'are', 'the', 'rooms', 'in', 'vit']\n",
      "postag is [('how', 'WRB'), ('are', 'VBP'), ('the', 'DT'), ('rooms', 'NNS'), ('in', 'IN'), ('vit', 'NN')]\n",
      "processedwords are  ['how', u'be', 'the', u'room', 'in', 'vit']\n",
      "l is [u'room', 'vit']\n",
      "Academics: 0.048701\n",
      "Placement: 0.066337\n",
      "Exam: 0.046659\n",
      "Hostel: 0.613070\n",
      "Fees: 0.061015\n",
      "hostel: 0.157418\n",
      "greetings: 0.006800\n"
     ]
    }
   ],
   "source": [
    "input_sent=\"how are the rooms in vit\"\n",
    "intent(input_sent)\n",
    "score(input_sent)"
   ]
  },
  {
   "cell_type": "code",
   "execution_count": null,
   "metadata": {
    "collapsed": true
   },
   "outputs": [],
   "source": []
  }
 ],
 "metadata": {
  "kernelspec": {
   "display_name": "Python 2",
   "language": "python",
   "name": "python2"
  },
  "language_info": {
   "codemirror_mode": {
    "name": "ipython",
    "version": 2
   },
   "file_extension": ".py",
   "mimetype": "text/x-python",
   "name": "python",
   "nbconvert_exporter": "python",
   "pygments_lexer": "ipython2",
   "version": "2.7.13"
  }
 },
 "nbformat": 4,
 "nbformat_minor": 2
}
